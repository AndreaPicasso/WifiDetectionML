{
 "cells": [
  {
   "cell_type": "code",
   "execution_count": 1,
   "metadata": {},
   "outputs": [
    {
     "name": "stdout",
     "output_type": "stream",
     "text": [
      "3.6.1 |Anaconda 4.4.0 (64-bit)| (default, May 11 2017, 13:25:24) [MSC v.1900 64 bit (AMD64)]\n"
     ]
    }
   ],
   "source": [
    "import numpy as np\n",
    "import pandas as pd\n",
    "import matplotlib.pyplot as plt\n",
    "import seaborn as sns\n",
    "sns.set(context=\"paper\", font=\"monospace\")\n",
    "\n",
    "import sys\n",
    "print(sys.version)\n",
    "\n",
    "%matplotlib inline"
   ]
  },
  {
   "cell_type": "code",
   "execution_count": 2,
   "metadata": {
    "collapsed": true
   },
   "outputs": [],
   "source": [
    "#Dialogo direttamente con il databaas\n",
    "import MySQLdb\n",
    "db = MySQLdb.connect(host=\"localhost\",    # your host, usually localhost\n",
    "                     user=\"root\",         # your username\n",
    "                     passwd=\"\",  # your password\n",
    "                     db=\"densita_popolazione\")"
   ]
  },
  {
   "cell_type": "code",
   "execution_count": 3,
   "metadata": {
    "collapsed": true
   },
   "outputs": [],
   "source": [
    "df = pd.read_sql('SELECT * FROM sniff', con=db)"
   ]
  },
  {
   "cell_type": "code",
   "execution_count": 5,
   "metadata": {},
   "outputs": [
    {
     "data": {
      "text/html": [
       "<div>\n",
       "<style>\n",
       "    .dataframe thead tr:only-child th {\n",
       "        text-align: right;\n",
       "    }\n",
       "\n",
       "    .dataframe thead th {\n",
       "        text-align: left;\n",
       "    }\n",
       "\n",
       "    .dataframe tbody tr th {\n",
       "        vertical-align: top;\n",
       "    }\n",
       "</style>\n",
       "<table border=\"1\" class=\"dataframe\">\n",
       "  <thead>\n",
       "    <tr style=\"text-align: right;\">\n",
       "      <th></th>\n",
       "      <th>id</th>\n",
       "      <th>mac</th>\n",
       "      <th>mac_num</th>\n",
       "      <th>locally</th>\n",
       "      <th>pow</th>\n",
       "      <th>data</th>\n",
       "      <th>chan</th>\n",
       "      <th>seq</th>\n",
       "      <th>ht_cap</th>\n",
       "      <th>ht_ampdu</th>\n",
       "      <th>vht_cap</th>\n",
       "      <th>sup_rates</th>\n",
       "      <th>ext_sup_rates</th>\n",
       "      <th>mcs_1_7</th>\n",
       "      <th>mcs_8_15</th>\n",
       "      <th>mcs_16_23</th>\n",
       "      <th>mcs_24_31</th>\n",
       "      <th>mcs_32</th>\n",
       "      <th>mcs_33_38</th>\n",
       "      <th>mcs_39_52</th>\n",
       "      <th>mcs_53_76</th>\n",
       "      <th>ssid</th>\n",
       "      <th>uuid_e</th>\n",
       "    </tr>\n",
       "  </thead>\n",
       "  <tbody>\n",
       "    <tr>\n",
       "      <th>0</th>\n",
       "      <td>2</td>\n",
       "      <td>78:25:ad:11:67:af</td>\n",
       "      <td>None</td>\n",
       "      <td>8</td>\n",
       "      <td>-86</td>\n",
       "      <td>2017-04-27 19:45:30</td>\n",
       "      <td>10</td>\n",
       "      <td>321</td>\n",
       "      <td></td>\n",
       "      <td></td>\n",
       "      <td></td>\n",
       "      <td>130,132,139,150,140,146,152,164</td>\n",
       "      <td>176,72,96,108</td>\n",
       "      <td></td>\n",
       "      <td></td>\n",
       "      <td></td>\n",
       "      <td></td>\n",
       "      <td></td>\n",
       "      <td></td>\n",
       "      <td></td>\n",
       "      <td></td>\n",
       "      <td>SAMSUNGSMART</td>\n",
       "      <td></td>\n",
       "    </tr>\n",
       "    <tr>\n",
       "      <th>1</th>\n",
       "      <td>3</td>\n",
       "      <td>78:25:ad:11:67:af</td>\n",
       "      <td>None</td>\n",
       "      <td>8</td>\n",
       "      <td>-86</td>\n",
       "      <td>2017-04-27 19:45:31</td>\n",
       "      <td>10</td>\n",
       "      <td>347</td>\n",
       "      <td></td>\n",
       "      <td></td>\n",
       "      <td></td>\n",
       "      <td>130,132,139,150,140,146,152,164</td>\n",
       "      <td>176,72,96,108</td>\n",
       "      <td></td>\n",
       "      <td></td>\n",
       "      <td></td>\n",
       "      <td></td>\n",
       "      <td></td>\n",
       "      <td></td>\n",
       "      <td></td>\n",
       "      <td></td>\n",
       "      <td>SAMSUNGSMART</td>\n",
       "      <td></td>\n",
       "    </tr>\n",
       "    <tr>\n",
       "      <th>2</th>\n",
       "      <td>4</td>\n",
       "      <td>18:4f:32:f2:e7:81</td>\n",
       "      <td>None</td>\n",
       "      <td>8</td>\n",
       "      <td>-77</td>\n",
       "      <td>2017-04-27 19:45:31</td>\n",
       "      <td>11</td>\n",
       "      <td>1187</td>\n",
       "      <td>0x0000182d</td>\n",
       "      <td>0x00000017</td>\n",
       "      <td></td>\n",
       "      <td>2,4,11,22</td>\n",
       "      <td>12,18,24,36,48,72,96,108</td>\n",
       "      <td>0x000000ff,0x000000f</td>\n",
       "      <td>0x000000ff,0x000000f</td>\n",
       "      <td>0x00000000,0x0000000</td>\n",
       "      <td>0x00000000,0x0000000</td>\n",
       "      <td>0x00000000,0x0000000</td>\n",
       "      <td>0x00000000,0x0000000</td>\n",
       "      <td>0x00000000,0x0000000</td>\n",
       "      <td>0x00000000,0x0000000</td>\n",
       "      <td></td>\n",
       "      <td></td>\n",
       "    </tr>\n",
       "    <tr>\n",
       "      <th>3</th>\n",
       "      <td>5</td>\n",
       "      <td>18:4f:32:f2:e7:81</td>\n",
       "      <td>None</td>\n",
       "      <td>8</td>\n",
       "      <td>-82</td>\n",
       "      <td>2017-04-27 19:45:31</td>\n",
       "      <td>11</td>\n",
       "      <td>1188</td>\n",
       "      <td>0x0000182d</td>\n",
       "      <td>0x00000017</td>\n",
       "      <td></td>\n",
       "      <td>2,4,11,22</td>\n",
       "      <td>12,18,24,36,48,72,96,108</td>\n",
       "      <td>0x000000ff,0x000000f</td>\n",
       "      <td>0x000000ff,0x000000f</td>\n",
       "      <td>0x00000000,0x0000000</td>\n",
       "      <td>0x00000000,0x0000000</td>\n",
       "      <td>0x00000000,0x0000000</td>\n",
       "      <td>0x00000000,0x0000000</td>\n",
       "      <td>0x00000000,0x0000000</td>\n",
       "      <td>0x00000000,0x0000000</td>\n",
       "      <td></td>\n",
       "      <td></td>\n",
       "    </tr>\n",
       "    <tr>\n",
       "      <th>4</th>\n",
       "      <td>6</td>\n",
       "      <td>78:25:ad:11:67:af</td>\n",
       "      <td>None</td>\n",
       "      <td>8</td>\n",
       "      <td>-88</td>\n",
       "      <td>2017-04-27 19:45:32</td>\n",
       "      <td>11</td>\n",
       "      <td>361</td>\n",
       "      <td></td>\n",
       "      <td></td>\n",
       "      <td></td>\n",
       "      <td>130,132,139,150,140,146,152,164</td>\n",
       "      <td>176,72,96,108</td>\n",
       "      <td></td>\n",
       "      <td></td>\n",
       "      <td></td>\n",
       "      <td></td>\n",
       "      <td></td>\n",
       "      <td></td>\n",
       "      <td></td>\n",
       "      <td></td>\n",
       "      <td>SAMSUNGSMART</td>\n",
       "      <td></td>\n",
       "    </tr>\n",
       "  </tbody>\n",
       "</table>\n",
       "</div>"
      ],
      "text/plain": [
       "   id                mac mac_num  locally  pow                data  chan  \\\n",
       "0   2  78:25:ad:11:67:af    None        8  -86 2017-04-27 19:45:30    10   \n",
       "1   3  78:25:ad:11:67:af    None        8  -86 2017-04-27 19:45:31    10   \n",
       "2   4  18:4f:32:f2:e7:81    None        8  -77 2017-04-27 19:45:31    11   \n",
       "3   5  18:4f:32:f2:e7:81    None        8  -82 2017-04-27 19:45:31    11   \n",
       "4   6  78:25:ad:11:67:af    None        8  -88 2017-04-27 19:45:32    11   \n",
       "\n",
       "    seq      ht_cap    ht_ampdu vht_cap                        sup_rates  \\\n",
       "0   321                                  130,132,139,150,140,146,152,164   \n",
       "1   347                                  130,132,139,150,140,146,152,164   \n",
       "2  1187  0x0000182d  0x00000017                                2,4,11,22   \n",
       "3  1188  0x0000182d  0x00000017                                2,4,11,22   \n",
       "4   361                                  130,132,139,150,140,146,152,164   \n",
       "\n",
       "              ext_sup_rates               mcs_1_7              mcs_8_15  \\\n",
       "0             176,72,96,108                                               \n",
       "1             176,72,96,108                                               \n",
       "2  12,18,24,36,48,72,96,108  0x000000ff,0x000000f  0x000000ff,0x000000f   \n",
       "3  12,18,24,36,48,72,96,108  0x000000ff,0x000000f  0x000000ff,0x000000f   \n",
       "4             176,72,96,108                                               \n",
       "\n",
       "              mcs_16_23             mcs_24_31                mcs_32  \\\n",
       "0                                                                     \n",
       "1                                                                     \n",
       "2  0x00000000,0x0000000  0x00000000,0x0000000  0x00000000,0x0000000   \n",
       "3  0x00000000,0x0000000  0x00000000,0x0000000  0x00000000,0x0000000   \n",
       "4                                                                     \n",
       "\n",
       "              mcs_33_38             mcs_39_52             mcs_53_76  \\\n",
       "0                                                                     \n",
       "1                                                                     \n",
       "2  0x00000000,0x0000000  0x00000000,0x0000000  0x00000000,0x0000000   \n",
       "3  0x00000000,0x0000000  0x00000000,0x0000000  0x00000000,0x0000000   \n",
       "4                                                                     \n",
       "\n",
       "           ssid uuid_e  \n",
       "0  SAMSUNGSMART         \n",
       "1  SAMSUNGSMART         \n",
       "2                       \n",
       "3                       \n",
       "4  SAMSUNGSMART         "
      ]
     },
     "execution_count": 5,
     "metadata": {},
     "output_type": "execute_result"
    }
   ],
   "source": [
    "pd.set_option('display.max_columns', None)\n",
    "df.head()"
   ]
  },
  {
   "cell_type": "code",
   "execution_count": 6,
   "metadata": {
    "collapsed": true
   },
   "outputs": [],
   "source": [
    "df_sort = df.sort_values(['mac','data'])"
   ]
  },
  {
   "cell_type": "code",
   "execution_count": 7,
   "metadata": {
    "collapsed": true
   },
   "outputs": [],
   "source": [
    "time_between_probes = []\n",
    "for i in range(0, df_sort.shape[0]-1):\n",
    "    if(df_sort['mac'][i] == df_sort['mac'][i+1]):\n",
    "        time = df_sort['data'][i+1] -  df_sort['data'][i]\n",
    "        time_between_probes.append(time.total_seconds())"
   ]
  },
  {
   "cell_type": "code",
   "execution_count": 8,
   "metadata": {},
   "outputs": [
    {
     "data": {
      "image/png": "[encoded data removed]",
      "text/plain": [
       "<matplotlib.figure.Figure at 0x287de590780>"
      ]
     },
     "metadata": {},
     "output_type": "display_data"
    }
   ],
   "source": [
    "plt.figure(figsize=(10, 10))\n",
    "plt.hist(time_between_probes)\n",
    "plt.title(\"Time between probes Histogram\")\n",
    "plt.xlabel(\"Value\")\n",
    "plt.ylabel(\"Frequency\")\n",
    "fig = plt.gcf()\n",
    "# Dal grafico possiamo notare come sia davvero difficile che due probe siamo inviati a distanza maggiore di 8 secondi\n",
    "# Supponendo un intervallo di 10 secondi: \"Se non mi arrivano più probe entro 10 secondi allora l'utente se ne è andato\"\n",
    "# otterremmo una previsione dell'uscita della persona aggiornata nel giro di 10 secondi dalla sua effettiva uscita\n",
    "\n",
    "# /!\\ Bisogna anche considerare la probabilità di assegnare una probe request in un determinato momento\n",
    "# ad un cluster piuttosto che un altro, ciò significherebbe rimuovere l'utente che è stato assegnato male\n",
    "# per maggiore stabilità sarebbe probabilmente meglio utilizzare tempi maggiori (es 8*3 = 24 sec -> devo assegnare in maniera \n",
    "# sbagliata 3 pacchetti prima di far sparire l'utente)"
   ]
  },
  {
   "cell_type": "code",
   "execution_count": 9,
   "metadata": {},
   "outputs": [
    {
     "data": {
      "text/plain": [
       "(-3.4562777039298771, 5.4562777039298771)"
      ]
     },
     "execution_count": 9,
     "metadata": {},
     "output_type": "execute_result"
    }
   ],
   "source": [
    "# NOTA: Non ha senso calcolare l'intervallo di confidenza di tale valore, per ottenere un valore massimo corretto in quanto\n",
    "# le misurazioni che abbiamo non sono misurazioni di un singolo valore ma sono misure su più telefoni, ciascuno con un\n",
    "# proprio valore diverso\n",
    "# CREDO (o forse comunque si perde un po' il significato di intervallo di confidenza, non essendoci un solo valore \"puro\")\n",
    "\n",
    "# qui di sotto il calcolo è riportato comunque\n",
    "from scipy.stats import t\n",
    "t.interval(0.95, 10, loc=1, scale=2)"
   ]
  },
  {
   "cell_type": "code",
   "execution_count": null,
   "metadata": {
    "collapsed": true
   },
   "outputs": [],
   "source": []
  }
 ],
 "metadata": {
  "kernelspec": {
   "display_name": "Python 3",
   "language": "python",
   "name": "python3"
  },
  "language_info": {
   "codemirror_mode": {
    "name": "ipython",
    "version": 3
   },
   "file_extension": ".py",
   "mimetype": "text/x-python",
   "name": "python",
   "nbconvert_exporter": "python",
   "pygments_lexer": "ipython3",
   "version": "3.6.1"
  }
 },
 "nbformat": 4,
 "nbformat_minor": 2
}

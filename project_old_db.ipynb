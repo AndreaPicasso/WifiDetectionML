{
 "cells": [
  {
   "cell_type": "code",
   "execution_count": 1,
   "metadata": {},
   "outputs": [
    {
     "name": "stdout",
     "output_type": "stream",
     "text": [
      "3.6.1 |Anaconda 4.4.0 (64-bit)| (default, May 11 2017, 13:25:24) [MSC v.1900 64 bit (AMD64)]\n"
     ]
    }
   ],
   "source": [
    "import numpy as np\n",
    "import pandas as pd\n",
    "import matplotlib.pyplot as plt\n",
    "import seaborn as sns\n",
    "sns.set(context=\"paper\", font=\"monospace\")\n",
    "\n",
    "import sys\n",
    "print(sys.version)\n",
    "\n",
    "%matplotlib inline"
   ]
  },
  {
   "cell_type": "code",
   "execution_count": 2,
   "metadata": {
    "collapsed": true
   },
   "outputs": [],
   "source": [
    "#Dialogo direttamente con il databaas\n",
    "import MySQLdb\n",
    "db = MySQLdb.connect(host=\"localhost\",    # your host, usually localhost\n",
    "                     user=\"root\",         # your username\n",
    "                     passwd=\"\",  # your password\n",
    "                     db=\"densita_popolazione\") "
   ]
  },
  {
   "cell_type": "code",
   "execution_count": 3,
   "metadata": {
    "collapsed": true
   },
   "outputs": [],
   "source": [
    "df = pd.read_sql('SELECT * FROM sniff', con=db)"
   ]
  },
  {
   "cell_type": "code",
   "execution_count": 11,
   "metadata": {},
   "outputs": [
    {
     "data": {
      "text/html": [
       "<div>\n",
       "<style>\n",
       "    .dataframe thead tr:only-child th {\n",
       "        text-align: right;\n",
       "    }\n",
       "\n",
       "    .dataframe thead th {\n",
       "        text-align: left;\n",
       "    }\n",
       "\n",
       "    .dataframe tbody tr th {\n",
       "        vertical-align: top;\n",
       "    }\n",
       "</style>\n",
       "<table border=\"1\" class=\"dataframe\">\n",
       "  <thead>\n",
       "    <tr style=\"text-align: right;\">\n",
       "      <th></th>\n",
       "      <th>id</th>\n",
       "      <th>mac</th>\n",
       "      <th>mac_num</th>\n",
       "      <th>locally</th>\n",
       "      <th>pow</th>\n",
       "      <th>data</th>\n",
       "      <th>chan</th>\n",
       "      <th>seq</th>\n",
       "      <th>ht_cap</th>\n",
       "      <th>ht_ampdu</th>\n",
       "      <th>vht_cap</th>\n",
       "      <th>sup_rates</th>\n",
       "      <th>ext_sup_rates</th>\n",
       "      <th>mcs_1_7</th>\n",
       "      <th>mcs_8_15</th>\n",
       "      <th>mcs_16_23</th>\n",
       "      <th>mcs_24_31</th>\n",
       "      <th>mcs_32</th>\n",
       "      <th>mcs_33_38</th>\n",
       "      <th>mcs_39_52</th>\n",
       "      <th>mcs_53_76</th>\n",
       "      <th>ssid</th>\n",
       "      <th>uuid_e</th>\n",
       "    </tr>\n",
       "  </thead>\n",
       "  <tbody>\n",
       "    <tr>\n",
       "      <th>0</th>\n",
       "      <td>2</td>\n",
       "      <td>78:25:ad:11:67:af</td>\n",
       "      <td>None</td>\n",
       "      <td>8</td>\n",
       "      <td>-86</td>\n",
       "      <td>2017-04-27 19:45:30</td>\n",
       "      <td>10</td>\n",
       "      <td>321</td>\n",
       "      <td>NaN</td>\n",
       "      <td>NaN</td>\n",
       "      <td>NaN</td>\n",
       "      <td>130,132,139,150,140,146,152,164</td>\n",
       "      <td>176,72,96,108</td>\n",
       "      <td>NaN</td>\n",
       "      <td>NaN</td>\n",
       "      <td>NaN</td>\n",
       "      <td>NaN</td>\n",
       "      <td>NaN</td>\n",
       "      <td>NaN</td>\n",
       "      <td>NaN</td>\n",
       "      <td>NaN</td>\n",
       "      <td>SAMSUNGSMART</td>\n",
       "      <td>NaN</td>\n",
       "    </tr>\n",
       "    <tr>\n",
       "      <th>1</th>\n",
       "      <td>3</td>\n",
       "      <td>78:25:ad:11:67:af</td>\n",
       "      <td>None</td>\n",
       "      <td>8</td>\n",
       "      <td>-86</td>\n",
       "      <td>2017-04-27 19:45:31</td>\n",
       "      <td>10</td>\n",
       "      <td>347</td>\n",
       "      <td>NaN</td>\n",
       "      <td>NaN</td>\n",
       "      <td>NaN</td>\n",
       "      <td>130,132,139,150,140,146,152,164</td>\n",
       "      <td>176,72,96,108</td>\n",
       "      <td>NaN</td>\n",
       "      <td>NaN</td>\n",
       "      <td>NaN</td>\n",
       "      <td>NaN</td>\n",
       "      <td>NaN</td>\n",
       "      <td>NaN</td>\n",
       "      <td>NaN</td>\n",
       "      <td>NaN</td>\n",
       "      <td>SAMSUNGSMART</td>\n",
       "      <td>NaN</td>\n",
       "    </tr>\n",
       "    <tr>\n",
       "      <th>2</th>\n",
       "      <td>4</td>\n",
       "      <td>18:4f:32:f2:e7:81</td>\n",
       "      <td>None</td>\n",
       "      <td>8</td>\n",
       "      <td>-77</td>\n",
       "      <td>2017-04-27 19:45:31</td>\n",
       "      <td>11</td>\n",
       "      <td>1187</td>\n",
       "      <td>0x0000182d</td>\n",
       "      <td>0x00000017</td>\n",
       "      <td>NaN</td>\n",
       "      <td>2,4,11,22</td>\n",
       "      <td>12,18,24,36,48,72,96,108</td>\n",
       "      <td>0x000000ff,0x000000f</td>\n",
       "      <td>0x000000ff,0x000000f</td>\n",
       "      <td>0x00000000,0x0000000</td>\n",
       "      <td>0x00000000,0x0000000</td>\n",
       "      <td>0x00000000,0x0000000</td>\n",
       "      <td>0x00000000,0x0000000</td>\n",
       "      <td>0x00000000,0x0000000</td>\n",
       "      <td>0x00000000,0x0000000</td>\n",
       "      <td>NaN</td>\n",
       "      <td>NaN</td>\n",
       "    </tr>\n",
       "    <tr>\n",
       "      <th>3</th>\n",
       "      <td>5</td>\n",
       "      <td>18:4f:32:f2:e7:81</td>\n",
       "      <td>None</td>\n",
       "      <td>8</td>\n",
       "      <td>-82</td>\n",
       "      <td>2017-04-27 19:45:31</td>\n",
       "      <td>11</td>\n",
       "      <td>1188</td>\n",
       "      <td>0x0000182d</td>\n",
       "      <td>0x00000017</td>\n",
       "      <td>NaN</td>\n",
       "      <td>2,4,11,22</td>\n",
       "      <td>12,18,24,36,48,72,96,108</td>\n",
       "      <td>0x000000ff,0x000000f</td>\n",
       "      <td>0x000000ff,0x000000f</td>\n",
       "      <td>0x00000000,0x0000000</td>\n",
       "      <td>0x00000000,0x0000000</td>\n",
       "      <td>0x00000000,0x0000000</td>\n",
       "      <td>0x00000000,0x0000000</td>\n",
       "      <td>0x00000000,0x0000000</td>\n",
       "      <td>0x00000000,0x0000000</td>\n",
       "      <td>NaN</td>\n",
       "      <td>NaN</td>\n",
       "    </tr>\n",
       "  </tbody>\n",
       "</table>\n",
       "</div>"
      ],
      "text/plain": [
       "   id                mac mac_num  locally  pow                data  chan  \\\n",
       "0   2  78:25:ad:11:67:af    None        8  -86 2017-04-27 19:45:30    10   \n",
       "1   3  78:25:ad:11:67:af    None        8  -86 2017-04-27 19:45:31    10   \n",
       "2   4  18:4f:32:f2:e7:81    None        8  -77 2017-04-27 19:45:31    11   \n",
       "3   5  18:4f:32:f2:e7:81    None        8  -82 2017-04-27 19:45:31    11   \n",
       "\n",
       "    seq      ht_cap    ht_ampdu vht_cap                        sup_rates  \\\n",
       "0   321         NaN         NaN     NaN  130,132,139,150,140,146,152,164   \n",
       "1   347         NaN         NaN     NaN  130,132,139,150,140,146,152,164   \n",
       "2  1187  0x0000182d  0x00000017     NaN                        2,4,11,22   \n",
       "3  1188  0x0000182d  0x00000017     NaN                        2,4,11,22   \n",
       "\n",
       "              ext_sup_rates               mcs_1_7              mcs_8_15  \\\n",
       "0             176,72,96,108                   NaN                   NaN   \n",
       "1             176,72,96,108                   NaN                   NaN   \n",
       "2  12,18,24,36,48,72,96,108  0x000000ff,0x000000f  0x000000ff,0x000000f   \n",
       "3  12,18,24,36,48,72,96,108  0x000000ff,0x000000f  0x000000ff,0x000000f   \n",
       "\n",
       "              mcs_16_23             mcs_24_31                mcs_32  \\\n",
       "0                   NaN                   NaN                   NaN   \n",
       "1                   NaN                   NaN                   NaN   \n",
       "2  0x00000000,0x0000000  0x00000000,0x0000000  0x00000000,0x0000000   \n",
       "3  0x00000000,0x0000000  0x00000000,0x0000000  0x00000000,0x0000000   \n",
       "\n",
       "              mcs_33_38             mcs_39_52             mcs_53_76  \\\n",
       "0                   NaN                   NaN                   NaN   \n",
       "1                   NaN                   NaN                   NaN   \n",
       "2  0x00000000,0x0000000  0x00000000,0x0000000  0x00000000,0x0000000   \n",
       "3  0x00000000,0x0000000  0x00000000,0x0000000  0x00000000,0x0000000   \n",
       "\n",
       "           ssid uuid_e  \n",
       "0  SAMSUNGSMART    NaN  \n",
       "1  SAMSUNGSMART    NaN  \n",
       "2           NaN    NaN  \n",
       "3           NaN    NaN  "
      ]
     },
     "execution_count": 11,
     "metadata": {},
     "output_type": "execute_result"
    }
   ],
   "source": [
    "pd.set_option('display.max_columns', None)\n",
    "df.head(4)"
   ]
  },
  {
   "cell_type": "code",
   "execution_count": 12,
   "metadata": {},
   "outputs": [
    {
     "data": {
      "text/plain": [
       "id                    0\n",
       "mac                   0\n",
       "mac_num          126425\n",
       "locally               0\n",
       "pow                   0\n",
       "data                  0\n",
       "chan                  0\n",
       "seq                   0\n",
       "ht_cap            31301\n",
       "ht_ampdu          31301\n",
       "vht_cap          123858\n",
       "sup_rates            46\n",
       "ext_sup_rates       243\n",
       "mcs_1_7           31301\n",
       "mcs_8_15          31301\n",
       "mcs_16_23         31301\n",
       "mcs_24_31         31301\n",
       "mcs_32            31301\n",
       "mcs_33_38         31301\n",
       "mcs_39_52         31301\n",
       "mcs_53_76         31301\n",
       "ssid              49418\n",
       "uuid_e           125162\n",
       "dtype: int64"
      ]
     },
     "execution_count": 12,
     "metadata": {},
     "output_type": "execute_result"
    }
   ],
   "source": [
    "# Vediamo quanti valori nulli ci sono\n",
    "# Un valore nullo per noi non rappresenta propriamente la \"mancanza di un'informazione\" ma bensì anche essa entrerà a far parte\n",
    "# della firma per identificare una persona, in quanto significa che quel particolare telefono non invia quel valore\n",
    "\n",
    "#CREDO\n",
    "\n",
    "# Cosa possiamo fare con i missing data? Dobbiamo riempirli?\n",
    "\n",
    "df = df.replace('', np.nan, regex=True)\n",
    "df.isnull().sum()"
   ]
  },
  {
   "cell_type": "code",
   "execution_count": 14,
   "metadata": {},
   "outputs": [
    {
     "data": {
      "text/html": [
       "<div>\n",
       "<style>\n",
       "    .dataframe thead tr:only-child th {\n",
       "        text-align: right;\n",
       "    }\n",
       "\n",
       "    .dataframe thead th {\n",
       "        text-align: left;\n",
       "    }\n",
       "\n",
       "    .dataframe tbody tr th {\n",
       "        vertical-align: top;\n",
       "    }\n",
       "</style>\n",
       "<table border=\"1\" class=\"dataframe\">\n",
       "  <thead>\n",
       "    <tr style=\"text-align: right;\">\n",
       "      <th></th>\n",
       "      <th>id</th>\n",
       "      <th>locally</th>\n",
       "      <th>pow</th>\n",
       "      <th>chan</th>\n",
       "      <th>seq</th>\n",
       "    </tr>\n",
       "  </thead>\n",
       "  <tbody>\n",
       "    <tr>\n",
       "      <th>count</th>\n",
       "      <td>126425.000000</td>\n",
       "      <td>126425.000000</td>\n",
       "      <td>126425.000000</td>\n",
       "      <td>126425.000000</td>\n",
       "      <td>126425.000000</td>\n",
       "    </tr>\n",
       "    <tr>\n",
       "      <th>mean</th>\n",
       "      <td>63222.751987</td>\n",
       "      <td>6.174206</td>\n",
       "      <td>-79.309393</td>\n",
       "      <td>6.166470</td>\n",
       "      <td>1718.358110</td>\n",
       "    </tr>\n",
       "    <tr>\n",
       "      <th>std</th>\n",
       "      <td>36498.010239</td>\n",
       "      <td>3.651282</td>\n",
       "      <td>11.808395</td>\n",
       "      <td>3.164424</td>\n",
       "      <td>1270.464081</td>\n",
       "    </tr>\n",
       "    <tr>\n",
       "      <th>min</th>\n",
       "      <td>2.000000</td>\n",
       "      <td>0.000000</td>\n",
       "      <td>-92.000000</td>\n",
       "      <td>1.000000</td>\n",
       "      <td>0.000000</td>\n",
       "    </tr>\n",
       "    <tr>\n",
       "      <th>25%</th>\n",
       "      <td>31614.000000</td>\n",
       "      <td>4.000000</td>\n",
       "      <td>-87.000000</td>\n",
       "      <td>4.000000</td>\n",
       "      <td>444.000000</td>\n",
       "    </tr>\n",
       "    <tr>\n",
       "      <th>50%</th>\n",
       "      <td>63223.000000</td>\n",
       "      <td>8.000000</td>\n",
       "      <td>-86.000000</td>\n",
       "      <td>6.000000</td>\n",
       "      <td>1591.000000</td>\n",
       "    </tr>\n",
       "    <tr>\n",
       "      <th>75%</th>\n",
       "      <td>94831.000000</td>\n",
       "      <td>8.000000</td>\n",
       "      <td>-70.000000</td>\n",
       "      <td>9.000000</td>\n",
       "      <td>2834.000000</td>\n",
       "    </tr>\n",
       "    <tr>\n",
       "      <th>max</th>\n",
       "      <td>126437.000000</td>\n",
       "      <td>14.000000</td>\n",
       "      <td>-38.000000</td>\n",
       "      <td>13.000000</td>\n",
       "      <td>4095.000000</td>\n",
       "    </tr>\n",
       "  </tbody>\n",
       "</table>\n",
       "</div>"
      ],
      "text/plain": [
       "                  id        locally            pow           chan  \\\n",
       "count  126425.000000  126425.000000  126425.000000  126425.000000   \n",
       "mean    63222.751987       6.174206     -79.309393       6.166470   \n",
       "std     36498.010239       3.651282      11.808395       3.164424   \n",
       "min         2.000000       0.000000     -92.000000       1.000000   \n",
       "25%     31614.000000       4.000000     -87.000000       4.000000   \n",
       "50%     63223.000000       8.000000     -86.000000       6.000000   \n",
       "75%     94831.000000       8.000000     -70.000000       9.000000   \n",
       "max    126437.000000      14.000000     -38.000000      13.000000   \n",
       "\n",
       "                 seq  \n",
       "count  126425.000000  \n",
       "mean     1718.358110  \n",
       "std      1270.464081  \n",
       "min         0.000000  \n",
       "25%       444.000000  \n",
       "50%      1591.000000  \n",
       "75%      2834.000000  \n",
       "max      4095.000000  "
      ]
     },
     "execution_count": 14,
     "metadata": {},
     "output_type": "execute_result"
    }
   ],
   "source": [
    "df.describe()"
   ]
  },
  {
   "cell_type": "code",
   "execution_count": 10,
   "metadata": {},
   "outputs": [
    {
     "data": {
      "text/plain": [
       "<matplotlib.axes._subplots.AxesSubplot at 0x204c9c3b940>"
      ]
     },
     "execution_count": 10,
     "metadata": {},
     "output_type": "execute_result"
    },
    {
     "data": {
      "image/png": "[encoded data removed]",
      "text/plain": [
       "<matplotlib.figure.Figure at 0x204c9d0d6d8>"
      ]
     },
     "metadata": {},
     "output_type": "display_data"
    }
   ],
   "source": [
    "# Correlazione tra i vari attributi\n",
    "\n",
    "corrmat = df.corr()\n",
    "f, ax = plt.subplots(figsize=(12, 9))\n",
    "sns.heatmap(corrmat, vmax=.8, square=True)"
   ]
  },
  {
   "cell_type": "code",
   "execution_count": 15,
   "metadata": {
    "collapsed": true
   },
   "outputs": [],
   "source": [
    "# NOTE SULLA MISURA DI DISTANZA DEGLI ATTRIBUTI \"IE\" -> CARATTERIZZANTI IL DEVICE\n",
    "# La misura di distanza per gli attributi etichettati come IE è semplice\n",
    "# un device ha delle caratteristiche che invia nei probe request, e NON SONO randomizzate, sono sempre quelle\n",
    "# perciò ciascun set di valori di quegli attributi da una determinata fingerprint, se ne cambia anche solo uno\n",
    "# ciò significa che il device è diverso\n",
    "# Non è una vera e propria misura di distanza più che altro può essere classificata come:\n",
    "# \"Se sono uguali è classificato come lo stesso device, se anche uno è diverso allora deve per forza essere un altro device\"\n",
    "\n",
    "\n",
    "\n",
    "# NOTE AGGIUNTIVE\n",
    "#at the exception of devices using bogus UUIDs, the WPS element is a unique identiﬁer in all our datasets\n",
    "\n",
    "\n",
    "# the list of SSIDs searched by a device, can be a unique identiﬁer.\n",
    "#Devices including this element send multiple probe requests to cover all the SSIDs in their preferred\n",
    "#network list (one probe for each network).\n",
    "#During each scan iteration, devices send an ordered burst of probe requests over a small timeframe.\n",
    "\n",
    "#In our datasets we found that 29.9% to 36.4% of devices broadcast at least one SSID.\n",
    "#Among these, 53% to 64.8% broadcast a unique list of SSIDs.\n",
    "# (Magari rimuovendo però le wifi presenti in quella zona -> trovabili con i pacchetti beacon)\n",
    "\n",
    "#Our algorithm ﬁrst clusters probe requests by their Information Element (IE) ﬁngerprint, \n",
    "# and then distinguishes devices in each cluster by relying on predictable sequence numbers.\n",
    "# DIREI che prima però bisogna:\n",
    "# - togliere utenti connessi a qualche Wifi (MAC sicuro)\n",
    "# - togliere utenti con MAC sicuramente non randomizzato (se si può capire quale è non randomizzato)\n",
    "\n",
    "# roughly one third of devices reset their sequence number on speciﬁc occasions. In particular, many devices reset \n",
    "# their sequence counter between scan iterations, likely because they turn oﬀ the radio chip when idle. \n",
    "\n",
    "#To only simulate devices that remain in the tracked area for a given duration, we removed devices of which \n",
    "#we lost too many consecutive probe requests. This indicates that the device moved outside the tracked area\n",
    "\n",
    "# SEE algorithm asiaccs2016  We used a value of 64 for ∆S, and 500 seconds for ∆T"
   ]
  },
  {
   "cell_type": "code",
   "execution_count": 21,
   "metadata": {},
   "outputs": [],
   "source": [
    "# Pacchetti per ciascun mac address\n",
    "mac_diff = df.groupby('mac').id.nunique()"
   ]
  },
  {
   "cell_type": "code",
   "execution_count": 22,
   "metadata": {},
   "outputs": [
    {
     "data": {
      "text/plain": [
       "count     1644.000000\n",
       "mean        76.900852\n",
       "std       1241.655654\n",
       "min          1.000000\n",
       "25%          1.000000\n",
       "50%          2.000000\n",
       "75%          5.000000\n",
       "max      44065.000000\n",
       "Name: id, dtype: float64"
      ]
     },
     "execution_count": 22,
     "metadata": {},
     "output_type": "execute_result"
    }
   ],
   "source": [
    "# Numero mac address diversi\n",
    "mac_diff.describe()"
   ]
  },
  {
   "cell_type": "code",
   "execution_count": 42,
   "metadata": {},
   "outputs": [
    {
     "data": {
      "image/png": "[encoded data removed]",
      "text/plain": [
       "<matplotlib.figure.Figure at 0x204d53e1898>"
      ]
     },
     "metadata": {},
     "output_type": "display_data"
    }
   ],
   "source": [
    "plt.figure(figsize=(10, 10))\n",
    "l = mac_diff.tolist()\n",
    "plt.hist(l, range=[1, 10])\n",
    "plt.title(\"Number of probes\")\n",
    "plt.xlabel(\"Value\")\n",
    "plt.ylabel(\"Frequency\")\n",
    "fig = plt.gcf()\n",
    "\n",
    "# Notiamo come nel dataset presentato, il maggior numero di probe request appartiene a mac che li hanno inviati\n",
    "# una sola volta, essi risultano probabilmente poco utili all'analisi\n",
    "# CREDO, PERCHE' DOVREBBERO ESSERE POCO UTILI? se ho una sola probe request non mi serve per capire come cambiano i mac\n",
    "# -> IL CLEANING O MENO DIPENDE POI DA COSA VOGLIAMO FARE"
   ]
  },
  {
   "cell_type": "code",
   "execution_count": null,
   "metadata": {
    "collapsed": true
   },
   "outputs": [],
   "source": []
  }
 ],
 "metadata": {
  "kernelspec": {
   "display_name": "Python 3",
   "language": "python",
   "name": "python3"
  },
  "language_info": {
   "codemirror_mode": {
    "name": "ipython",
    "version": 3
   },
   "file_extension": ".py",
   "mimetype": "text/x-python",
   "name": "python",
   "nbconvert_exporter": "python",
   "pygments_lexer": "ipython3",
   "version": "3.6.1"
  }
 },
 "nbformat": 4,
 "nbformat_minor": 2
}
